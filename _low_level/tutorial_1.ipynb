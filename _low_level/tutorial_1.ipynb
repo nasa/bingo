{
 "cells": [
  {
   "cell_type": "markdown",
   "metadata": {},
   "source": [
    "# Bingo Tutorial 1: One Max Problem\n",
    "\n",
    "\n",
    "## Goal: Find a list with all 1 values through genetic optimization"
   ]
  },
  {
   "cell_type": "markdown",
   "metadata": {},
   "source": [
    "This example walks through the general steps needed to set up and run a bingo analysis. The example problem described here is the one max problem. In the one max problem individuals in a population are defined by a chromosome with a list of 0 or 1 values, e.g., [0, 1, 1, 0, 1]. The goal of the optimization is to evolve toward an optimum list containing all 1's. "
   ]
  },
  {
   "cell_type": "markdown",
   "metadata": {},
   "source": [
    "### Chromosome\n",
    "The basic unit of bingo evolutionary analyses are Chromosomes.  Bingo's built-in `MultipleValueChromosome` is used here. Individuals of this type contain their genetic information in a list attribute named `values`"
   ]
  },
  {
   "cell_type": "code",
   "execution_count": 1,
   "metadata": {
    "execution": {
     "iopub.execute_input": "2024-10-09T17:40:25.352656Z",
     "iopub.status.busy": "2024-10-09T17:40:25.352471Z",
     "iopub.status.idle": "2024-10-09T17:40:25.413674Z",
     "shell.execute_reply": "2024-10-09T17:40:25.413151Z"
    }
   },
   "outputs": [
    {
     "name": "stdout",
     "output_type": "stream",
     "text": [
      "<class 'bingo.chromosomes.multiple_values.MultipleValueChromosome'>\n",
      "[0, 1, 1, 0, 1]\n",
      "[0, 1, 1, 0, 1]\n"
     ]
    }
   ],
   "source": [
    "from bingo.chromosomes.multiple_values import MultipleValueChromosome\n",
    "chromosome = MultipleValueChromosome([0, 1, 1, 0, 1])\n",
    "print(type(chromosome))\n",
    "print(chromosome.values)\n",
    "print(chromosome)"
   ]
  },
  {
   "cell_type": "markdown",
   "metadata": {},
   "source": [
    "### Chromosome Generator\n",
    "A chromosome generator is used to generate members (Chromosomes) in a population. The `MultipleValueChromosomeGenerator` generates these individuals by populating the indivudual's values from a given input function. The `generate_0_or_1` function is defined for this purpose. "
   ]
  },
  {
   "cell_type": "code",
   "execution_count": 2,
   "metadata": {
    "execution": {
     "iopub.execute_input": "2024-10-09T17:40:25.416915Z",
     "iopub.status.busy": "2024-10-09T17:40:25.416062Z",
     "iopub.status.idle": "2024-10-09T17:40:25.420347Z",
     "shell.execute_reply": "2024-10-09T17:40:25.419832Z"
    }
   },
   "outputs": [],
   "source": [
    "import numpy as np\n",
    "from bingo.chromosomes.multiple_values import MultipleValueChromosomeGenerator\n",
    "\n",
    "def generate_0_or_1():\n",
    "    return np.random.choice([0, 1])\n",
    "\n",
    "generator = MultipleValueChromosomeGenerator(generate_0_or_1,\n",
    "                                             values_per_chromosome=16) "
   ]
  },
  {
   "cell_type": "code",
   "execution_count": 3,
   "metadata": {
    "execution": {
     "iopub.execute_input": "2024-10-09T17:40:25.423266Z",
     "iopub.status.busy": "2024-10-09T17:40:25.422485Z",
     "iopub.status.idle": "2024-10-09T17:40:25.433051Z",
     "shell.execute_reply": "2024-10-09T17:40:25.432548Z"
    }
   },
   "outputs": [
    {
     "name": "stdout",
     "output_type": "stream",
     "text": [
      "[np.int64(0), np.int64(1), np.int64(0), np.int64(0), np.int64(0), np.int64(0), np.int64(0), np.int64(0), np.int64(1), np.int64(0), np.int64(0), np.int64(1), np.int64(1), np.int64(0), np.int64(0), np.int64(1)]\n"
     ]
    }
   ],
   "source": [
    "# Example of Generator\n",
    "chromosome = generator()\n",
    "print(chromosome)"
   ]
  },
  {
   "cell_type": "markdown",
   "metadata": {},
   "source": [
    "### The Evolutionary Algorithm\n",
    "Evolutionary algorithms have 3 phases in bingo: variation, evaluation and selection. \n",
    "\n",
    "**Variation**\n",
    "\n",
    "The variation phase is responsible for generating offspring of the population, usually through some combination of mutation and crossover. Single-point mutation and crossover are used for this example. Also in this example, VarOr is used which creates offspring through either mutation or crossover (never both)."
   ]
  },
  {
   "cell_type": "code",
   "execution_count": 4,
   "metadata": {
    "execution": {
     "iopub.execute_input": "2024-10-09T17:40:25.436112Z",
     "iopub.status.busy": "2024-10-09T17:40:25.435248Z",
     "iopub.status.idle": "2024-10-09T17:40:25.440157Z",
     "shell.execute_reply": "2024-10-09T17:40:25.439618Z"
    }
   },
   "outputs": [],
   "source": [
    "from bingo.chromosomes.multiple_values import SinglePointCrossover, SinglePointMutation\n",
    "from bingo.variation.var_or import VarOr\n",
    "\n",
    "crossover = SinglePointCrossover()\n",
    "mutation = SinglePointMutation(generate_0_or_1)\n",
    "variation_phase = VarOr(crossover, mutation,\n",
    "                        crossover_probability=0.4,\n",
    "                        mutation_probability=0.4)"
   ]
  },
  {
   "cell_type": "code",
   "execution_count": 5,
   "metadata": {
    "execution": {
     "iopub.execute_input": "2024-10-09T17:40:25.443091Z",
     "iopub.status.busy": "2024-10-09T17:40:25.442307Z",
     "iopub.status.idle": "2024-10-09T17:40:25.447806Z",
     "shell.execute_reply": "2024-10-09T17:40:25.447273Z"
    }
   },
   "outputs": [
    {
     "name": "stdout",
     "output_type": "stream",
     "text": [
      "Mutation\n",
      "before:  [0, 0, 0, 0, 0, 0]\n",
      "after:   [0, 0, 0, 0, np.int64(1), 0]\n"
     ]
    }
   ],
   "source": [
    "# Example of Single-point Mutation\n",
    "np.random.seed(0)\n",
    "before_mutation = MultipleValueChromosome([0, 0, 0, 0, 0, 0])\n",
    "after_mutation = mutation(before_mutation)\n",
    "print(\"Mutation\")\n",
    "print(\"before: \", before_mutation)\n",
    "print(\"after:  \", after_mutation)"
   ]
  },
  {
   "cell_type": "code",
   "execution_count": 6,
   "metadata": {
    "execution": {
     "iopub.execute_input": "2024-10-09T17:40:25.450717Z",
     "iopub.status.busy": "2024-10-09T17:40:25.449934Z",
     "iopub.status.idle": "2024-10-09T17:40:25.455788Z",
     "shell.execute_reply": "2024-10-09T17:40:25.455251Z"
    }
   },
   "outputs": [
    {
     "name": "stdout",
     "output_type": "stream",
     "text": [
      "Crossover\n",
      "parent 1:  [0, 0, 0, 0, 0, 0]\n",
      "parent 1:  [1, 1, 1, 1, 1, 1]\n",
      "child 1:  [0, 0, 0, 0, 0, 1]\n",
      "child 1:  [1, 1, 1, 1, 1, 0]\n"
     ]
    }
   ],
   "source": [
    "# Example of Single-point Crossover\n",
    "parent_1 = MultipleValueChromosome([0, 0, 0, 0, 0, 0])\n",
    "parent_2 = MultipleValueChromosome([1, 1, 1, 1, 1, 1])\n",
    "child_1, child_2 = crossover(parent_1, parent_2)\n",
    "print(\"Crossover\")\n",
    "print(\"parent 1: \", parent_1)\n",
    "print(\"parent 1: \", parent_2)\n",
    "print(\"child 1: \", child_1)\n",
    "print(\"child 1: \", child_2)"
   ]
  },
  {
   "cell_type": "markdown",
   "metadata": {},
   "source": [
    "**Evaluation**\n",
    "\n",
    "The evaluation phase is responsible for evaluating the fitness of new members of a population. It relies on the definition of a `FitnessFunction` class.\n",
    "\n",
    "The goal of bingo analyses is to *minimize* fitness, so fitness functions should be constructed accordingly. In the one max problem fitness is defined as the number of 0's in the individuals values."
   ]
  },
  {
   "cell_type": "code",
   "execution_count": 7,
   "metadata": {
    "execution": {
     "iopub.execute_input": "2024-10-09T17:40:25.458773Z",
     "iopub.status.busy": "2024-10-09T17:40:25.457989Z",
     "iopub.status.idle": "2024-10-09T17:40:25.464781Z",
     "shell.execute_reply": "2024-10-09T17:40:25.464258Z"
    }
   },
   "outputs": [],
   "source": [
    "from bingo.evaluation.fitness_function import FitnessFunction\n",
    "from bingo.evaluation.evaluation import Evaluation\n",
    "\n",
    "class OneMaxFitnessFunction(FitnessFunction):\n",
    "    \"\"\"Callable class to calculate fitness\"\"\"\n",
    "    def __call__(self, individual):\n",
    "        return individual.values.count(0)\n",
    "\n",
    "fitness = OneMaxFitnessFunction()\n",
    "evaluation_phase = Evaluation(fitness)"
   ]
  },
  {
   "cell_type": "code",
   "execution_count": 8,
   "metadata": {
    "execution": {
     "iopub.execute_input": "2024-10-09T17:40:25.467854Z",
     "iopub.status.busy": "2024-10-09T17:40:25.466952Z",
     "iopub.status.idle": "2024-10-09T17:40:25.472163Z",
     "shell.execute_reply": "2024-10-09T17:40:25.471737Z"
    }
   },
   "outputs": [
    {
     "name": "stdout",
     "output_type": "stream",
     "text": [
      "Values:  [0, 1, 0, 1, 0, 0]\n",
      "Fitness: 4\n"
     ]
    }
   ],
   "source": [
    "# Example fitness calculation\n",
    "chromosome = MultipleValueChromosome([0, 1, 0, 1, 0, 0])\n",
    "print(\"Values: \", chromosome)\n",
    "print(\"Fitness:\",fitness(chromosome))"
   ]
  },
  {
   "cell_type": "markdown",
   "metadata": {},
   "source": [
    "**Selection**\n",
    "\n",
    "The selection phase is responsible for choosing which members of the population proceed to the next generation. An implementation of the common tournament selection algorithm is used here."
   ]
  },
  {
   "cell_type": "code",
   "execution_count": 9,
   "metadata": {
    "execution": {
     "iopub.execute_input": "2024-10-09T17:40:25.474609Z",
     "iopub.status.busy": "2024-10-09T17:40:25.473957Z",
     "iopub.status.idle": "2024-10-09T17:40:25.477610Z",
     "shell.execute_reply": "2024-10-09T17:40:25.477179Z"
    }
   },
   "outputs": [],
   "source": [
    "from bingo.selection.tournament import Tournament\n",
    "\n",
    "selection_phase = Tournament(tournament_size=2)"
   ]
  },
  {
   "cell_type": "markdown",
   "metadata": {},
   "source": [
    "Based on the above 3 phases, an EvolutionaryAlgorithm can be defined.  Note that several evolutionary algorithms are implemented in bingo, with only the simplest shown here.  They all generally take the same form, but may have different requirements for instatiation."
   ]
  },
  {
   "cell_type": "code",
   "execution_count": 10,
   "metadata": {
    "execution": {
     "iopub.execute_input": "2024-10-09T17:40:25.480077Z",
     "iopub.status.busy": "2024-10-09T17:40:25.479431Z",
     "iopub.status.idle": "2024-10-09T17:40:25.483291Z",
     "shell.execute_reply": "2024-10-09T17:40:25.482873Z"
    }
   },
   "outputs": [],
   "source": [
    "from bingo.evolutionary_algorithms.evolutionary_algorithm import EvolutionaryAlgorithm\n",
    "\n",
    "ev_alg = EvolutionaryAlgorithm(variation_phase, evaluation_phase, \n",
    "                               selection_phase)"
   ]
  },
  {
   "cell_type": "markdown",
   "metadata": {},
   "source": [
    "### Creating an island and Running the Analysis\n",
    "\n",
    "An `Island` is the fundamental unit for running bingo evolutionary analyses. It is responsible for generating and evolving a population (using a generator and evolutionary algorithm)."
   ]
  },
  {
   "cell_type": "code",
   "execution_count": 11,
   "metadata": {
    "execution": {
     "iopub.execute_input": "2024-10-09T17:40:25.485765Z",
     "iopub.status.busy": "2024-10-09T17:40:25.485120Z",
     "iopub.status.idle": "2024-10-09T17:40:25.497992Z",
     "shell.execute_reply": "2024-10-09T17:40:25.497402Z"
    }
   },
   "outputs": [
    {
     "name": "stdout",
     "output_type": "stream",
     "text": [
      "Best individual at start:  [np.int64(1), np.int64(1), np.int64(1), np.int64(1), np.int64(1), np.int64(1), np.int64(0), np.int64(1), np.int64(1), np.int64(0), np.int64(0), np.int64(1), np.int64(0), np.int64(0), np.int64(1), np.int64(1)]\n",
      "Best individual's fitness:  5\n"
     ]
    }
   ],
   "source": [
    "from bingo.evolutionary_optimizers.island import Island\n",
    "\n",
    "island = Island(ev_alg, generator, population_size=10)\n",
    "print(\"Best individual at start: \", island.get_best_individual())\n",
    "print(\"Best individual's fitness: \", island.get_best_fitness())"
   ]
  },
  {
   "cell_type": "markdown",
   "metadata": {},
   "source": [
    "The island can be evolved directly using it's `evolve` member function. In this case the population is evolved for 50 generations"
   ]
  },
  {
   "cell_type": "code",
   "execution_count": 12,
   "metadata": {
    "execution": {
     "iopub.execute_input": "2024-10-09T17:40:25.500156Z",
     "iopub.status.busy": "2024-10-09T17:40:25.499641Z",
     "iopub.status.idle": "2024-10-09T17:40:25.581947Z",
     "shell.execute_reply": "2024-10-09T17:40:25.581477Z"
    }
   },
   "outputs": [
    {
     "name": "stdout",
     "output_type": "stream",
     "text": [
      "Best individual at start:  [np.int64(1), np.int64(1), np.int64(1), np.int64(1), np.int64(1), np.int64(1), np.int64(1), np.int64(1), np.int64(1), np.int64(1), np.int64(0), np.int64(1), np.int64(1), np.int64(1), np.int64(1), np.int64(1)]\n",
      "Best individual's fitness:  1\n"
     ]
    }
   ],
   "source": [
    "island.evolve(50)\n",
    "\n",
    "print(\"Best individual at start: \", island.get_best_individual())\n",
    "print(\"Best individual's fitness: \", island.get_best_fitness())"
   ]
  },
  {
   "cell_type": "markdown",
   "metadata": {},
   "source": [
    "### Seeing the Evolution: tracking the best individual\n",
    "We can track the best individual over the analysis to see the evolution take place."
   ]
  },
  {
   "cell_type": "code",
   "execution_count": 13,
   "metadata": {
    "execution": {
     "iopub.execute_input": "2024-10-09T17:40:25.583797Z",
     "iopub.status.busy": "2024-10-09T17:40:25.583472Z",
     "iopub.status.idle": "2024-10-09T17:40:25.688993Z",
     "shell.execute_reply": "2024-10-09T17:40:25.688511Z"
    }
   },
   "outputs": [
    {
     "name": "stdout",
     "output_type": "stream",
     "text": [
      "Best individual in generation 0 :  [np.int64(0), np.int64(1), np.int64(1), np.int64(0), np.int64(1), np.int64(1), np.int64(1), np.int64(1), np.int64(1), np.int64(1), np.int64(1), np.int64(0), np.int64(0), np.int64(1), np.int64(0), np.int64(0)]\n",
      "Best individual in generation 1 :  [np.int64(1), np.int64(0), np.int64(1), np.int64(1), np.int64(0), np.int64(1), np.int64(1), np.int64(0), np.int64(0), np.int64(1), np.int64(1), np.int64(1), np.int64(1), np.int64(0), np.int64(1), np.int64(0)]\n",
      "Best individual in generation 2 :  [np.int64(1), np.int64(1), np.int64(1), np.int64(1), np.int64(0), np.int64(1), np.int64(1), np.int64(0), np.int64(0), np.int64(1), np.int64(1), np.int64(1), np.int64(1), np.int64(0), np.int64(1), np.int64(0)]\n",
      "Best individual in generation 3 :  [np.int64(1), np.int64(0), np.int64(1), np.int64(1), np.int64(0), np.int64(1), np.int64(1), np.int64(0), np.int64(0), np.int64(1), np.int64(1), np.int64(1), np.int64(1), np.int64(0), np.int64(1), np.int64(0)]\n",
      "Best individual in generation 4 :  [np.int64(1), np.int64(0), np.int64(1), np.int64(1), np.int64(0), np.int64(1), np.int64(1), np.int64(0), np.int64(0), np.int64(1), np.int64(1), np.int64(1), np.int64(1), np.int64(0), np.int64(1), np.int64(0)]\n",
      "Best individual in generation 5 :  [np.int64(1), np.int64(0), np.int64(1), np.int64(1), np.int64(0), np.int64(1), np.int64(1), np.int64(0), np.int64(0), np.int64(1), np.int64(1), np.int64(1), np.int64(1), np.int64(0), np.int64(1), np.int64(0)]\n",
      "Best individual in generation 6 :  [np.int64(1), np.int64(0), np.int64(1), np.int64(1), np.int64(0), np.int64(1), np.int64(1), np.int64(0), np.int64(0), np.int64(1), np.int64(1), np.int64(1), np.int64(1), np.int64(0), np.int64(1), np.int64(0)]\n",
      "Best individual in generation 7 :  [np.int64(1), np.int64(1), np.int64(1), np.int64(1), np.int64(0), np.int64(1), np.int64(1), np.int64(0), np.int64(0), np.int64(1), np.int64(1), np.int64(1), np.int64(1), np.int64(0), np.int64(1), np.int64(0)]\n",
      "Best individual in generation 8 :  [np.int64(1), np.int64(1), np.int64(1), np.int64(1), np.int64(0), np.int64(1), np.int64(1), np.int64(0), np.int64(0), np.int64(1), np.int64(1), np.int64(1), np.int64(1), np.int64(0), np.int64(1), np.int64(0)]\n",
      "Best individual in generation 9 :  [np.int64(1), np.int64(1), np.int64(1), np.int64(1), np.int64(0), np.int64(1), np.int64(1), np.int64(0), np.int64(1), np.int64(1), np.int64(1), np.int64(1), np.int64(1), np.int64(0), np.int64(1), np.int64(0)]\n",
      "Best individual in generation 10 :  [np.int64(1), np.int64(1), np.int64(1), np.int64(1), np.int64(0), np.int64(1), np.int64(1), np.int64(0), np.int64(0), np.int64(1), np.int64(1), np.int64(1), np.int64(1), np.int64(0), np.int64(1), np.int64(0)]\n",
      "Best individual in generation 11 :  [np.int64(1), np.int64(1), np.int64(1), np.int64(1), np.int64(0), np.int64(1), np.int64(1), np.int64(0), np.int64(0), np.int64(1), np.int64(1), np.int64(1), np.int64(1), np.int64(0), np.int64(1), np.int64(0)]\n",
      "Best individual in generation 12 :  [np.int64(1), np.int64(1), np.int64(1), np.int64(1), np.int64(0), np.int64(1), np.int64(1), np.int64(1), np.int64(0), np.int64(1), np.int64(1), np.int64(1), np.int64(1), np.int64(0), np.int64(1), np.int64(0)]\n",
      "Best individual in generation 13 :  [np.int64(1), np.int64(1), np.int64(0), np.int64(1), np.int64(0), np.int64(1), np.int64(1), np.int64(1), np.int64(0), np.int64(1), np.int64(1), np.int64(1), np.int64(1), np.int64(0), np.int64(1), np.int64(0)]\n",
      "Best individual in generation 14 :  [np.int64(1), np.int64(1), np.int64(1), np.int64(1), np.int64(0), np.int64(1), np.int64(1), np.int64(1), np.int64(0), np.int64(1), np.int64(1), np.int64(1), np.int64(1), np.int64(0), np.int64(1), np.int64(0)]\n",
      "Best individual in generation 15 :  [np.int64(1), np.int64(1), np.int64(1), np.int64(1), np.int64(0), np.int64(1), np.int64(1), np.int64(1), np.int64(0), np.int64(1), np.int64(1), np.int64(1), np.int64(1), np.int64(0), np.int64(1), np.int64(0)]\n",
      "Best individual in generation 16 :  [np.int64(1), np.int64(1), np.int64(1), np.int64(1), np.int64(0), np.int64(1), np.int64(1), np.int64(1), np.int64(0), np.int64(1), np.int64(1), np.int64(1), np.int64(1), np.int64(0), np.int64(1), np.int64(0)]\n",
      "Best individual in generation 17 :  [np.int64(1), np.int64(1), np.int64(1), np.int64(1), np.int64(0), np.int64(1), np.int64(1), np.int64(1), np.int64(1), np.int64(1), np.int64(1), np.int64(1), np.int64(1), np.int64(0), np.int64(1), np.int64(0)]\n",
      "Best individual in generation 18 :  [np.int64(1), np.int64(1), np.int64(1), np.int64(1), np.int64(0), np.int64(1), np.int64(1), np.int64(1), np.int64(1), np.int64(1), np.int64(1), np.int64(1), np.int64(1), np.int64(0), np.int64(1), np.int64(0)]\n",
      "Best individual in generation 19 :  [np.int64(1), np.int64(1), np.int64(1), np.int64(1), np.int64(0), np.int64(1), np.int64(1), np.int64(1), np.int64(1), np.int64(1), np.int64(1), np.int64(1), np.int64(1), np.int64(0), np.int64(1), np.int64(0)]\n",
      "Best individual in generation 20 :  [np.int64(1), np.int64(1), np.int64(1), np.int64(1), np.int64(0), np.int64(1), np.int64(1), np.int64(1), np.int64(1), np.int64(1), np.int64(1), np.int64(1), np.int64(1), np.int64(0), np.int64(1), np.int64(0)]\n",
      "Best individual in generation 21 :  [np.int64(1), np.int64(1), np.int64(1), np.int64(1), np.int64(1), np.int64(1), np.int64(1), np.int64(1), np.int64(1), np.int64(1), np.int64(1), np.int64(1), np.int64(1), np.int64(0), np.int64(1), np.int64(0)]\n",
      "Best individual in generation 22 :  [np.int64(1), np.int64(1), np.int64(1), np.int64(1), np.int64(1), np.int64(1), np.int64(1), np.int64(1), np.int64(1), np.int64(1), np.int64(1), np.int64(1), np.int64(1), np.int64(0), np.int64(1), np.int64(0)]\n",
      "Best individual in generation 23 :  [np.int64(1), np.int64(1), np.int64(1), np.int64(1), np.int64(1), np.int64(1), np.int64(1), np.int64(1), np.int64(1), np.int64(1), np.int64(1), np.int64(1), np.int64(1), np.int64(0), np.int64(1), np.int64(0)]\n",
      "Best individual in generation 24 :  [np.int64(1), np.int64(1), np.int64(1), np.int64(1), np.int64(1), np.int64(1), np.int64(1), np.int64(1), np.int64(1), np.int64(1), np.int64(1), np.int64(1), np.int64(1), np.int64(0), np.int64(1), np.int64(0)]\n",
      "Best individual in generation 25 :  [np.int64(1), np.int64(1), np.int64(1), np.int64(1), np.int64(1), np.int64(1), np.int64(1), np.int64(1), np.int64(1), np.int64(1), np.int64(1), np.int64(1), np.int64(1), np.int64(0), np.int64(1), np.int64(0)]\n",
      "Best individual in generation 26 :  [np.int64(1), np.int64(1), np.int64(1), np.int64(1), np.int64(1), np.int64(1), np.int64(1), np.int64(1), np.int64(1), np.int64(1), np.int64(1), np.int64(1), np.int64(1), np.int64(0), np.int64(1), np.int64(0)]\n",
      "Best individual in generation 27 :  [np.int64(1), np.int64(1), np.int64(1), np.int64(1), np.int64(1), np.int64(1), np.int64(1), np.int64(1), np.int64(1), np.int64(1), np.int64(1), np.int64(1), np.int64(1), np.int64(1), np.int64(1), np.int64(0)]\n",
      "Best individual in generation 28 :  [np.int64(1), np.int64(1), np.int64(1), np.int64(1), np.int64(1), np.int64(1), np.int64(1), np.int64(1), np.int64(1), np.int64(1), np.int64(1), np.int64(1), np.int64(1), np.int64(1), np.int64(1), np.int64(0)]\n",
      "Best individual in generation 29 :  [np.int64(1), np.int64(1), np.int64(1), np.int64(1), np.int64(1), np.int64(1), np.int64(1), np.int64(1), np.int64(1), np.int64(1), np.int64(1), np.int64(1), np.int64(1), np.int64(1), np.int64(1), np.int64(0)]\n",
      "Best individual in generation 30 :  [np.int64(1), np.int64(1), np.int64(1), np.int64(1), np.int64(1), np.int64(1), np.int64(1), np.int64(1), np.int64(1), np.int64(1), np.int64(1), np.int64(1), np.int64(1), np.int64(1), np.int64(1), np.int64(0)]\n",
      "Best individual in generation 31 :  [np.int64(1), np.int64(1), np.int64(1), np.int64(1), np.int64(1), np.int64(1), np.int64(1), np.int64(1), np.int64(1), np.int64(1), np.int64(1), np.int64(1), np.int64(1), np.int64(1), np.int64(1), np.int64(0)]\n",
      "Best individual in generation 32 :  [np.int64(1), np.int64(1), np.int64(1), np.int64(1), np.int64(1), np.int64(1), np.int64(1), np.int64(1), np.int64(1), np.int64(1), np.int64(1), np.int64(1), np.int64(1), np.int64(1), np.int64(1), np.int64(1)]\n",
      "Best individual in generation 33 :  [np.int64(1), np.int64(1), np.int64(1), np.int64(1), np.int64(1), np.int64(1), np.int64(1), np.int64(1), np.int64(1), np.int64(1), np.int64(1), np.int64(1), np.int64(1), np.int64(1), np.int64(1), np.int64(1)]\n",
      "Best individual in generation 34 :  [np.int64(1), np.int64(1), np.int64(1), np.int64(1), np.int64(1), np.int64(1), np.int64(1), np.int64(1), np.int64(1), np.int64(1), np.int64(1), np.int64(1), np.int64(1), np.int64(1), np.int64(1), np.int64(1)]\n",
      "Best individual in generation 35 :  [np.int64(1), np.int64(1), np.int64(1), np.int64(1), np.int64(1), np.int64(1), np.int64(1), np.int64(1), np.int64(1), np.int64(1), np.int64(1), np.int64(1), np.int64(1), np.int64(1), np.int64(1), np.int64(1)]\n",
      "Best individual in generation 36 :  [np.int64(1), np.int64(1), np.int64(1), np.int64(1), np.int64(1), np.int64(1), np.int64(1), np.int64(1), np.int64(1), np.int64(1), np.int64(1), np.int64(1), np.int64(1), np.int64(1), np.int64(1), np.int64(1)]\n",
      "Best individual in generation 37 :  [np.int64(1), np.int64(1), np.int64(1), np.int64(1), np.int64(1), np.int64(1), np.int64(1), np.int64(1), np.int64(1), np.int64(1), np.int64(1), np.int64(1), np.int64(1), np.int64(1), np.int64(1), np.int64(1)]\n",
      "Best individual in generation 38 :  [np.int64(1), np.int64(1), np.int64(1), np.int64(1), np.int64(1), np.int64(1), np.int64(1), np.int64(1), np.int64(1), np.int64(1), np.int64(1), np.int64(1), np.int64(1), np.int64(1), np.int64(1), np.int64(1)]\n",
      "Best individual in generation 39 :  [np.int64(1), np.int64(1), np.int64(1), np.int64(1), np.int64(1), np.int64(1), np.int64(1), np.int64(1), np.int64(1), np.int64(1), np.int64(1), np.int64(1), np.int64(1), np.int64(1), np.int64(1), np.int64(1)]\n",
      "Best individual in generation 40 :  [np.int64(1), np.int64(1), np.int64(1), np.int64(1), np.int64(1), np.int64(1), np.int64(1), np.int64(1), np.int64(1), np.int64(1), np.int64(1), np.int64(1), np.int64(1), np.int64(1), np.int64(1), np.int64(1)]\n",
      "Best individual in generation 41 :  [np.int64(1), np.int64(1), np.int64(1), np.int64(1), np.int64(1), np.int64(1), np.int64(1), np.int64(1), np.int64(1), np.int64(1), np.int64(1), np.int64(1), np.int64(1), np.int64(1), np.int64(1), np.int64(1)]\n",
      "Best individual in generation 42 :  [np.int64(1), np.int64(1), np.int64(1), np.int64(1), np.int64(1), np.int64(1), np.int64(1), np.int64(1), np.int64(1), np.int64(1), np.int64(1), np.int64(1), np.int64(1), np.int64(1), np.int64(1), np.int64(1)]\n",
      "Best individual in generation 43 :  [np.int64(1), np.int64(1), np.int64(1), np.int64(1), np.int64(1), np.int64(1), np.int64(1), np.int64(1), np.int64(1), np.int64(1), np.int64(1), np.int64(1), np.int64(1), np.int64(1), np.int64(1), np.int64(1)]\n",
      "Best individual in generation 44 :  [np.int64(1), np.int64(1), np.int64(1), np.int64(1), np.int64(1), np.int64(1), np.int64(1), np.int64(1), np.int64(1), np.int64(1), np.int64(1), np.int64(1), np.int64(1), np.int64(1), np.int64(1), np.int64(1)]\n",
      "Best individual in generation 45 :  [np.int64(1), np.int64(1), np.int64(1), np.int64(1), np.int64(1), np.int64(1), np.int64(1), np.int64(1), np.int64(1), np.int64(1), np.int64(1), np.int64(1), np.int64(1), np.int64(1), np.int64(1), np.int64(1)]\n",
      "Best individual in generation 46 :  [np.int64(1), np.int64(1), np.int64(1), np.int64(1), np.int64(1), np.int64(1), np.int64(1), np.int64(1), np.int64(1), np.int64(1), np.int64(1), np.int64(1), np.int64(1), np.int64(1), np.int64(1), np.int64(1)]\n",
      "Best individual in generation 47 :  [np.int64(1), np.int64(1), np.int64(1), np.int64(1), np.int64(1), np.int64(1), np.int64(1), np.int64(1), np.int64(1), np.int64(1), np.int64(1), np.int64(1), np.int64(1), np.int64(1), np.int64(1), np.int64(1)]\n",
      "Best individual in generation 48 :  [np.int64(1), np.int64(1), np.int64(1), np.int64(1), np.int64(1), np.int64(1), np.int64(1), np.int64(1), np.int64(1), np.int64(1), np.int64(1), np.int64(1), np.int64(1), np.int64(1), np.int64(1), np.int64(1)]\n",
      "Best individual in generation 49 :  [np.int64(1), np.int64(1), np.int64(1), np.int64(1), np.int64(1), np.int64(1), np.int64(1), np.int64(1), np.int64(1), np.int64(1), np.int64(1), np.int64(1), np.int64(1), np.int64(1), np.int64(1), np.int64(1)]\n"
     ]
    }
   ],
   "source": [
    "np.random.seed(0)\n",
    "island = Island(ev_alg, generator, population_size=10)\n",
    "for i in range(50):\n",
    "    island.evolve(1)\n",
    "    print(\"Best individual in generation\", i, \": \", island.get_best_individual())"
   ]
  }
 ],
 "metadata": {
  "kernelspec": {
   "display_name": "Python 3",
   "language": "python",
   "name": "python3"
  },
  "language_info": {
   "codemirror_mode": {
    "name": "ipython",
    "version": 3
   },
   "file_extension": ".py",
   "mimetype": "text/x-python",
   "name": "python",
   "nbconvert_exporter": "python",
   "pygments_lexer": "ipython3",
   "version": "3.12.7"
  }
 },
 "nbformat": 4,
 "nbformat_minor": 2
}
