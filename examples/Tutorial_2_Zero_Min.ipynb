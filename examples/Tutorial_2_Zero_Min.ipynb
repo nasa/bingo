{
 "cells": [
  {
   "cell_type": "markdown",
   "metadata": {},
   "source": [
    "# Bingo Tutorial 2: Zero Min Problem\n",
    "\n",
    "## Goal: Find a list of numbers with zero magnitude through genetic optimization"
   ]
  },
  {
   "cell_type": "markdown",
   "metadata": {},
   "source": [
    "### Chromosome\n",
    "The basic unit of bingo evolutionary analyses are Chromosomes.  The chromosome used in this example is a `MultipleFloatChromosome`.  The `MultipleFloatChromosome` contains a list of floating point values.  It also has optional use of local optimization for some of those values."
   ]
  },
  {
   "cell_type": "code",
   "execution_count": null,
   "metadata": {},
   "outputs": [],
   "source": [
    "from bingo.chromosomes.multiple_floats import MultipleFloatChromosome\n",
    "chromosome = MultipleFloatChromosome([0., 1., 2., 3.])\n",
    "print(type(chromosome))\n",
    "print(chromosome)"
   ]
  },
  {
   "cell_type": "markdown",
   "metadata": {},
   "source": [
    "### Chromosome Generator\n",
    "Chromosomes are created with a Generator. Generation of `MultipleValueChromosome` requires a function that returns floats to populate the list of values. In this example, that function is `get_random_float`.\n",
    "\n",
    "The Generator is initialized with the random value function, along with the desired size of the float list, and an optional list of indices on which to perform local optimization. \n",
    "The Generator is used to generate populations of Chromosomes on Islands."
   ]
  },
  {
   "cell_type": "code",
   "execution_count": null,
   "metadata": {},
   "outputs": [],
   "source": [
    "import numpy as np\n",
    "from bingo.chromosomes.multiple_floats import MultipleFloatChromosomeGenerator\n",
    "\n",
    "VALUE_LIST_SIZE = 8\n",
    "np.random.seed(0)\n",
    "\n",
    "def get_random_float():\n",
    "    return np.random.random_sample()\n",
    "\n",
    "generator = MultipleFloatChromosomeGenerator(get_random_float, VALUE_LIST_SIZE, [1, 3, 4])"
   ]
  },
  {
   "cell_type": "code",
   "execution_count": null,
   "metadata": {},
   "outputs": [],
   "source": [
    "# Example of Generator\n",
    "chromosome = generator()\n",
    "print(chromosome)\n",
    "print(chromosome.get_number_local_optimization_params())"
   ]
  },
  {
   "cell_type": "markdown",
   "metadata": {},
   "source": [
    "### Chromosome Variation\n",
    "Variation of `MultipleValueChromosome` individuals is performed with single-point crossover and/or single-point mutation."
   ]
  },
  {
   "cell_type": "code",
   "execution_count": null,
   "metadata": {},
   "outputs": [],
   "source": [
    "from bingo.chromosomes.multiple_values import SinglePointCrossover\n",
    "from bingo.chromosomes.multiple_values import SinglePointMutation\n",
    "\n",
    "crossover = SinglePointCrossover()\n",
    "mutation = SinglePointMutation(get_random_float)"
   ]
  },
  {
   "cell_type": "code",
   "execution_count": null,
   "metadata": {},
   "outputs": [],
   "source": [
    "# Example of Mutation\n",
    "before_mutation = MultipleFloatChromosome([0., 0., 0., 0., 0., 0.])\n",
    "after_mutation = mutation(before_mutation)\n",
    "print(\"Mutation\")\n",
    "print(\"before: \", before_mutation)\n",
    "print(\"after:  \", after_mutation)"
   ]
  },
  {
   "cell_type": "code",
   "execution_count": null,
   "metadata": {},
   "outputs": [],
   "source": [
    "# Example of Crossover\n",
    "parent_1 = MultipleFloatChromosome([0., 0., 0., 0., 0., 0.])\n",
    "parent_2 = MultipleFloatChromosome([1., 1., 1., 1., 1., 1.])\n",
    "child_1, child_2 = crossover(parent_1, parent_2)\n",
    "print(\"Crossover\")\n",
    "print(\"parent 1: \", parent_1)\n",
    "print(\"parent 1: \", parent_2)\n",
    "print(\"child 1: \", child_1)\n",
    "print(\"child 1: \", child_2)"
   ]
  },
  {
   "cell_type": "markdown",
   "metadata": {},
   "source": [
    "### Fitness and Evaluation\n",
    "In order to Evaluate Chromosomes and assign them a fitness value, first we must define a `FitnessFunction`. For the Zero Min Problem, this Fitness Function calculates fitness by finding the norm of all the values in a Chromosome's list of values. Once a `FitnessFunction` has been defined, it can be passed to an Evaluation to be applied to a population. In this example, we also wrap the `FitnessFunction` with ContinuousLocalOptimization to perform local optimization on indicies specified in the Generator class."
   ]
  },
  {
   "cell_type": "code",
   "execution_count": null,
   "metadata": {},
   "outputs": [],
   "source": [
    "from bingo.evaluation.fitness_function import FitnessFunction\n",
    "from bingo.local_optimizers.continuous_local_opt import ContinuousLocalOptimization\n",
    "from bingo.evaluation.evaluation import Evaluation\n",
    "\n",
    "class ZeroMinFitnessFunction(FitnessFunction):\n",
    "    def __call__(self, individual):\n",
    "        return np.linalg.norm(individual.values)\n",
    "\n",
    "                              \n",
    "fitness = ZeroMinFitnessFunction()\n",
    "local_opt_fitness = ContinuousLocalOptimization(fitness)\n",
    "evaluator = Evaluation(local_opt_fitness) # evaluates a population (list of chromosomes)"
   ]
  },
  {
   "cell_type": "code",
   "execution_count": null,
   "metadata": {},
   "outputs": [],
   "source": [
    "# Example of fitness\n",
    "chromosome = MultipleFloatChromosome([1., 1., 1., 1., 1., 1.], \n",
    "                                     needs_opt_list=[0, 3]) # perform local optimization on these indices\n",
    "print(fitness(chromosome))\n",
    "print(chromosome)\n",
    "print(local_opt_fitness(chromosome))\n",
    "print(chromosome)"
   ]
  },
  {
   "cell_type": "markdown",
   "metadata": {},
   "source": [
    "Notice that the values in the chromosome at indices 0 and 3 become very near zero.  This occurs as part of the local optimization."
   ]
  },
  {
   "cell_type": "markdown",
   "metadata": {},
   "source": [
    "### Selection\n",
    "For this example, we use Tournament Selection to select `GOAL_POPULATION_SIZE` individuals to advance to the next generation."
   ]
  },
  {
   "cell_type": "code",
   "execution_count": null,
   "metadata": {},
   "outputs": [],
   "source": [
    "from bingo.selection.tournament import Tournament\n",
    "\n",
    "GOAL_POPULATION_SIZE = 25\n",
    "\n",
    "selection = Tournament(GOAL_POPULATION_SIZE)"
   ]
  },
  {
   "cell_type": "markdown",
   "metadata": {},
   "source": [
    "### Evolutionary Algorithm: Mu + Lambda\n",
    "The Evolutionary Algorithm used in this example is called `MuPlusLambda`. Mu represents the parent population and Lambda represents their offspring. MuPlusLambda means the parents and offspring are evaluated together and then the most fit individuals for the next generation are selected from both populations combined. We pass our previously defined Evaluation and Selection modules to MuPlusLambda, along with Crossover and Mutation which will be used to define the behaviors of Variation."
   ]
  },
  {
   "cell_type": "code",
   "execution_count": null,
   "metadata": {},
   "outputs": [],
   "source": [
    "from bingo.evolutionary_algorithms.mu_plus_lambda import MuPlusLambda\n",
    "\n",
    "MUTATION_PROBABILITY = 0.4\n",
    "CROSSOVER_PROBABILITY = 0.4\n",
    "NUM_OFFSPRING = GOAL_POPULATION_SIZE\n",
    "\n",
    "evo_alg = MuPlusLambda(evaluator,\n",
    "                       selection,\n",
    "                       crossover,\n",
    "                       mutation,\n",
    "                       CROSSOVER_PROBABILITY,\n",
    "                       MUTATION_PROBABILITY,\n",
    "                       NUM_OFFSPRING)"
   ]
  },
  {
   "cell_type": "markdown",
   "metadata": {},
   "source": [
    "### Hall of Fame\n",
    "A `HallOfFame` object can be used to keep track of the best individuals that occur during the evolution of a population.  It is initialized with the maximum number of members to track, i.e., the 5 best indviduals will be saved in the hall of fame in the example below.  Optionally, a similarity function can be given as an argument, in order to identify similar individuals (and track only unique ones). It is passed to an `island` on initialization (see next subsection)."
   ]
  },
  {
   "cell_type": "code",
   "execution_count": null,
   "metadata": {},
   "outputs": [],
   "source": [
    "from bingo.stats.hall_of_fame import HallOfFame\n",
    "\n",
    "def similar_mfcs(mfc_1, mfc_2):\n",
    "    \"\"\"identifies if two MultpleFloatChromosomes have similar values\"\"\"\n",
    "    difference_in_values = 0\n",
    "    for i, j in zip(mfc_1.values, mfc_2.values):\n",
    "        difference_in_values += abs(i - j)\n",
    "    return difference_in_values < 1e-4\n",
    "\n",
    "hof = HallOfFame(max_size=5, similarity_function=similar_mfcs)"
   ]
  },
  {
   "cell_type": "markdown",
   "metadata": {},
   "source": [
    "### Island\n",
    "An `Island` is where evolution takes place in bingo analyses. The `Island` class takes as arguments an Evolutionary Algorithm, a Generator with which to generate an initial population, and thesize of the population on the island. The `Island` will create a population and then execute generational steps of the Evolutionary Algorithm to evolve the population."
   ]
  },
  {
   "cell_type": "code",
   "execution_count": null,
   "metadata": {},
   "outputs": [],
   "source": [
    "from bingo.evolutionary_optimizers.island import Island\n",
    "\n",
    "POPULATION_SIZE = 10\n",
    "\n",
    "island = Island(evo_alg, generator, POPULATION_SIZE, hall_of_fame=hof)"
   ]
  },
  {
   "cell_type": "code",
   "execution_count": null,
   "metadata": {},
   "outputs": [],
   "source": [
    "print(\"Island age:\", island.generational_age,\n",
    "      \" with best fitness:\", island.get_best_fitness(), \"\\n\")\n",
    "for i, indv in enumerate(island.population):\n",
    "    print(\"indv\", i, indv)"
   ]
  },
  {
   "cell_type": "markdown",
   "metadata": {},
   "source": [
    "### Evolution\n",
    "There are two mechanisms for performing evolution in bingo.\n",
    "\n",
    "1) Manually step through a set number of generations"
   ]
  },
  {
   "cell_type": "code",
   "execution_count": null,
   "metadata": {},
   "outputs": [],
   "source": [
    "print(\"Island age:\", island.generational_age,\n",
    "      \" with best fitness:\", island.get_best_fitness())\n",
    "\n",
    "island.evolve(num_generations=10)\n",
    "\n",
    "print(\"Island age:\", island.generational_age,\n",
    "      \" with best fitness:\", island.get_best_fitness())"
   ]
  },
  {
   "cell_type": "markdown",
   "metadata": {},
   "source": [
    "2) Evolve automatically until convergence"
   ]
  },
  {
   "cell_type": "code",
   "execution_count": null,
   "metadata": {},
   "outputs": [],
   "source": [
    "island.evolve_until_convergence(max_generations=1000,\n",
    "                                fitness_threshold=0.05)\n",
    "\n",
    "print(\"Island age:\", island.generational_age,\n",
    "      \" with best fitness:\", island.get_best_fitness(), \"\\n\")\n",
    "print(\"Best indv: \", island.get_best_individual())"
   ]
  },
  {
   "cell_type": "markdown",
   "metadata": {},
   "source": [
    "The hall of fame is automatically updated during evolution.  \n",
    "Note that, for the most part, it can be treated like a list of individuals, in ascending order of fitness."
   ]
  },
  {
   "cell_type": "code",
   "execution_count": null,
   "metadata": {},
   "outputs": [],
   "source": [
    "print(\"RANK      FITNESS\")\n",
    "for i, member in enumerate(hof):\n",
    "    print(\" \", i, \" \", member.fitness)"
   ]
  },
  {
   "cell_type": "markdown",
   "metadata": {},
   "source": [
    "### Animation of Evolution"
   ]
  },
  {
   "cell_type": "code",
   "execution_count": null,
   "metadata": {},
   "outputs": [],
   "source": [
    "# Reinitialize and rerun island while documenting best individual\n",
    "island = Island(evo_alg, generator, POPULATION_SIZE)\n",
    "best_indv_values = []\n",
    "best_indv_values.append(island.get_best_individual().values)\n",
    "for i in range(50):\n",
    "    island.evolve(1)\n",
    "    best_indv_values.append(island.get_best_individual().values)"
   ]
  },
  {
   "cell_type": "code",
   "execution_count": null,
   "metadata": {},
   "outputs": [],
   "source": [
    "import matplotlib.pyplot as plt\n",
    "import matplotlib.animation as animation\n",
    "\n",
    "def animate_data(list_of_best_indv_values):\n",
    "\n",
    "    fig, ax = plt.subplots()\n",
    "\n",
    "    num_generations = len(list_of_best_indv_values)\n",
    "    x = np.arange(0, len(list_of_best_indv_values[0]))\n",
    "    y = list_of_best_indv_values\n",
    "    zero = [0]*len(x)\n",
    "    polygon = ax.fill_between(x, zero, y[0], color='b', alpha=0.3)\n",
    "    points, = ax.plot(x, y[0], 'bs')\n",
    "    points.set_label('Generation :' + str(0))\n",
    "    legend = ax.legend(loc='upper right', shadow=True)\n",
    "\n",
    "\n",
    "    def animate(i):\n",
    "        ax.collections.clear()\n",
    "        polygon = ax.fill_between(x, zero, y[i], color='b', alpha=0.3)\n",
    "        points.set_ydata(y[i])  # update the data\n",
    "        points.set_label('Generation :' + str(i))\n",
    "        legend = ax.legend(loc='upper right')\n",
    "        return points, polygon, legend\n",
    "\n",
    "\n",
    "    # Init only required for blitting to give a clean slate.\n",
    "    def init():\n",
    "        points.set_ydata(np.ma.array(x, mask=True))\n",
    "        return points, polygon, points\n",
    "\n",
    "    plt.xlabel('Chromosome Value Index', fontsize=15)\n",
    "    plt.ylabel('Value Magnitude', fontsize=15)\n",
    "    plt.title(\"Values of Best Individual in Island\", fontsize=15)\n",
    "    plt.ylim(-0.01,0.5)\n",
    "    ax.tick_params(axis='y', labelsize=15)\n",
    "    ax.tick_params(axis='x', labelsize=15)\n",
    "    \n",
    "    plt.close()\n",
    "\n",
    "    return animation.FuncAnimation(fig, animate, num_generations, init_func=init,\n",
    "                                   interval=250, blit=True)"
   ]
  },
  {
   "cell_type": "code",
   "execution_count": null,
   "metadata": {},
   "outputs": [],
   "source": [
    "from IPython.display import HTML\n",
    "HTML(animate_data(best_indv_values).to_jshtml())"
   ]
  },
  {
   "cell_type": "code",
   "execution_count": null,
   "metadata": {},
   "outputs": [],
   "source": []
  }
 ],
 "metadata": {
  "kernelspec": {
   "display_name": "Python 3",
   "language": "python",
   "name": "python3"
  },
  "language_info": {
   "codemirror_mode": {
    "name": "ipython",
    "version": 3
   },
   "file_extension": ".py",
   "mimetype": "text/x-python",
   "name": "python",
   "nbconvert_exporter": "python",
   "pygments_lexer": "ipython3",
   "version": "3.7.3"
  }
 },
 "nbformat": 4,
 "nbformat_minor": 2
}
