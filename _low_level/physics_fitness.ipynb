{
 "cells": [
  {
   "cell_type": "markdown",
   "id": "94f5f701",
   "metadata": {},
   "source": [
    "# Physics-Informed Fitness\n",
    "\n",
    "## Goal: Show how fitness functions can be customized to enforce problem-specific constraints."
   ]
  },
  {
   "cell_type": "markdown",
   "id": "699606ff",
   "metadata": {},
   "source": [
    "### Pre-Requisites\n",
    "\n",
    "It is recommended to check out the [symbolic regression tutorial](tutorial_4.html) before continuing."
   ]
  },
  {
   "cell_type": "markdown",
   "id": "3edae137",
   "metadata": {},
   "source": [
    "### Problem Description\n",
    "\n",
    "A basic physics problem that benefits from using physics-informed fitness is modeling the velocity of an object falling through a viscous liquid. Here we'll model a the velocity of a ball falling through honey. Using Newton's 2nd law ($F = ma \\to a = F/m$), we can derive that $a = g - cv/m$ where $g$ is the acceleration due to gravity, $c$ is a drag term, $v$ is the velocity of the ball, and $m$ is the mass of the ball. We can use this fact to enforce that the models Bingo produces for velocity are physically consistent.\n",
    "\n",
    "**TODO free-body diagram showing problem, note that we are not factoring buoyancy here**"
   ]
  },
  {
   "cell_type": "markdown",
   "id": "1643fd68",
   "metadata": {},
   "source": [
    "### Creating Training Data\n",
    "\n",
    "We can integrate $a = g - cv/m$ to get the true equation of the ball's velocity as it falls through a fluid: $\\frac{mg}{c} \\left(1 - \\exp \\left(\\frac{ct}{m}\\right)\\right)$. Note that while we can derive the true equation in this case, there are problems where we can't do so and only have training data. So, we will only be using this true equation to generate training data and use GPSR to get a model from the data.\n",
    "\n",
    "Let's assume our ball has a mass of 1 $kg$ and a radius of 3 $cm$; on Earth $g$ is roughly 9.8 $m/s^2$; and for the ball dropping through honey, $c$ is roughly $1.8 \\pi \\, kg/s \\approx 5.655 \\, kg/s$ (Stokes' Law without velocity) at $\\text{20}^{\\circ}$C."
   ]
  },
  {
   "cell_type": "code",
   "execution_count": 1,
   "id": "a93a6cce",
   "metadata": {
    "execution": {
     "iopub.execute_input": "2024-10-09T18:07:13.145244Z",
     "iopub.status.busy": "2024-10-09T18:07:13.145069Z",
     "iopub.status.idle": "2024-10-09T18:07:13.199420Z",
     "shell.execute_reply": "2024-10-09T18:07:13.198942Z"
    }
   },
   "outputs": [],
   "source": [
    "import numpy as np\n",
    "\n",
    "m = 1\n",
    "r = 3.0/100.0\n",
    "g = 9.8\n",
    "c = 5.655\n",
    "\n",
    "t = np.linspace(0, 10, num=100).reshape((-1, 1))\n",
    "v = m * g / c * (1 - np.exp(c * t / m))"
   ]
  },
  {
   "cell_type": "code",
   "execution_count": 2,
   "id": "ad57c593",
   "metadata": {
    "execution": {
     "iopub.execute_input": "2024-10-09T18:07:13.201725Z",
     "iopub.status.busy": "2024-10-09T18:07:13.201468Z",
     "iopub.status.idle": "2024-10-09T18:07:16.511843Z",
     "shell.execute_reply": "2024-10-09T18:07:16.511230Z"
    }
   },
   "outputs": [
    {
     "data": {
      "image/png": "[encoded data removed]",
      "text/plain": [
       "<Figure size 640x480 with 1 Axes>"
      ]
     },
     "metadata": {},
     "output_type": "display_data"
    }
   ],
   "source": [
    "import matplotlib.pyplot as plt\n",
    "\n",
    "plt.scatter(t, v)\n",
    "plt.xlabel(\"t (s)\")\n",
    "plt.ylabel(\"v (m/s)\")\n",
    "plt.title(\"Velocity of Ball Falling Through Honey\")\n",
    "plt.show()"
   ]
  },
  {
   "cell_type": "markdown",
   "id": "a9a34fdc",
   "metadata": {},
   "source": [
    "### Symbolic Regression Setup\n",
    "\n",
    "See the [symbolic regression tutorial](tutorial_4.html) for more information."
   ]
  },
  {
   "cell_type": "markdown",
   "id": "ef35ebe7",
   "metadata": {},
   "source": [
    "#### AGraph Component Generator"
   ]
  },
  {
   "cell_type": "code",
   "execution_count": 3,
   "id": "00985dec",
   "metadata": {
    "execution": {
     "iopub.execute_input": "2024-10-09T18:07:16.513917Z",
     "iopub.status.busy": "2024-10-09T18:07:16.513517Z",
     "iopub.status.idle": "2024-10-09T18:07:17.117218Z",
     "shell.execute_reply": "2024-10-09T18:07:17.116652Z"
    }
   },
   "outputs": [
    {
     "name": "stderr",
     "output_type": "stream",
     "text": [
      "/home/runner/work/bingo/bingo/bingo/symbolic_regression/__init__.py:31: UserWarning: Could not load C++ modules No module named 'bingocpp.build'\n",
      "  warnings.warn(f\"Could not load C++ modules {import_err}\")\n"
     ]
    }
   ],
   "source": [
    "from bingo.symbolic_regression import ComponentGenerator\n",
    "\n",
    "component_generator = ComponentGenerator(input_x_dimension=t.shape[1])\n",
    "component_generator.add_operator(\"-\")\n",
    "component_generator.add_operator(\"*\")\n",
    "component_generator.add_operator(\"/\")\n",
    "component_generator.add_operator(\"exp\")"
   ]
  },
  {
   "cell_type": "markdown",
   "id": "04a8b95a",
   "metadata": {},
   "source": [
    "#### AGraph Generator"
   ]
  },
  {
   "cell_type": "code",
   "execution_count": 4,
   "id": "45525da8",
   "metadata": {
    "execution": {
     "iopub.execute_input": "2024-10-09T18:07:17.119375Z",
     "iopub.status.busy": "2024-10-09T18:07:17.118949Z",
     "iopub.status.idle": "2024-10-09T18:07:17.121778Z",
     "shell.execute_reply": "2024-10-09T18:07:17.121331Z"
    }
   },
   "outputs": [],
   "source": [
    "from bingo.symbolic_regression import AGraphGenerator\n",
    "\n",
    "AGRAPH_SIZE = 10\n",
    "\n",
    "agraph_generator = AGraphGenerator(agraph_size=AGRAPH_SIZE,\n",
    "                                   component_generator=component_generator)"
   ]
  },
  {
   "cell_type": "markdown",
   "id": "000ecad4",
   "metadata": {},
   "source": [
    "#### AGraph Variation"
   ]
  },
  {
   "cell_type": "code",
   "execution_count": 5,
   "id": "de7b8051",
   "metadata": {
    "execution": {
     "iopub.execute_input": "2024-10-09T18:07:17.123570Z",
     "iopub.status.busy": "2024-10-09T18:07:17.123233Z",
     "iopub.status.idle": "2024-10-09T18:07:17.126174Z",
     "shell.execute_reply": "2024-10-09T18:07:17.125635Z"
    }
   },
   "outputs": [],
   "source": [
    "from bingo.symbolic_regression import AGraphCrossover, AGraphMutation\n",
    "\n",
    "crossover = AGraphCrossover()\n",
    "mutation = AGraphMutation(component_generator)"
   ]
  },
  {
   "cell_type": "markdown",
   "id": "0f21a084",
   "metadata": {},
   "source": [
    "#### Evaluation"
   ]
  },
  {
   "cell_type": "markdown",
   "id": "4bd7868b",
   "metadata": {},
   "source": [
    "##### Defining the Custom Fitness Function\n",
    "\n",
    "Here we're going to create our own fitness function based on the existing `ExplicitRegression` which is used for typical symbolic regression."
   ]
  },
  {
   "cell_type": "code",
   "execution_count": 6,
   "id": "fcdb8442",
   "metadata": {
    "execution": {
     "iopub.execute_input": "2024-10-09T18:07:17.128109Z",
     "iopub.status.busy": "2024-10-09T18:07:17.127692Z",
     "iopub.status.idle": "2024-10-09T18:07:17.131998Z",
     "shell.execute_reply": "2024-10-09T18:07:17.131442Z"
    }
   },
   "outputs": [],
   "source": [
    "from bingo.symbolic_regression import ExplicitRegression\n",
    "\n",
    "class FallingBallRegression(ExplicitRegression):\n",
    "    def __init__(self, training_data, mass_of_ball, radius_of_ball,\n",
    "                 g, drag_term, metric=\"mae\", relative=False):\n",
    "        super().__init__(training_data, metric, relative)\n",
    "\n",
    "        self.m = mass_of_ball\n",
    "        self.r = radius_of_ball\n",
    "        self.g = g\n",
    "        self.c = drag_term\n",
    "        \n",
    "    def evaluate_fitness_vector(self, individual):\n",
    "        typical_fitness_vector = super().evaluate_fitness_vector(individual)\n",
    "\n",
    "        v, dv_dt = individual.evaluate_equation_with_x_gradient_at(\n",
    "            self.training_data.x)\n",
    "        v, dv_dt = np.nan_to_num(v.flatten()), np.nan_to_num(dv_dt.flatten())\n",
    "        derivative_fitness_vector = self.g - self.c * v / self.m - dv_dt\n",
    "\n",
    "        return typical_fitness_vector + derivative_fitness_vector"
   ]
  },
  {
   "cell_type": "markdown",
   "id": "7dc1e03c",
   "metadata": {},
   "source": [
    "In `__init__`, we are defining the same arguments that `ExplicitRegression` needs (`training_data`, `metric`, and `relative`) as well as information specific to our problem (`mass_of_ball`, `radius_of_ball`, `g`, and `drag_term`). Then we are setting up `ExplicitRegression` and storing the physics terms in our object.\n",
    "\n",
    "In `evaluate_fitness_vector`, we are getting the normal fitness vector using `ExplicitRegression`'s `evaluate_fitness_vector` and adding it with a physics-informed `derivative_fitness_vector`. The `derivative_fitness_vector` penalizes the individual if its velocity predictions do not abide by the known $a = \\frac{dv}{dt} = g - \\frac{cv}{m}$. We can do this by using `AGraph`'s `evaluate_equation_with_x_gradient_at` which will normally give us $y$, $dy/dx$, but in our case $x=t$ and $y=v$, so we get $v$, $dv/dt$."
   ]
  },
  {
   "cell_type": "markdown",
   "id": "2ef86801",
   "metadata": {},
   "source": [
    "##### Using the Custom Fitness Function in Evaluation\n",
    "\n",
    "Let's instantiate and wrap our custom fitness function with `ContinuousLocalOptimization` to allow for local optimization of `AGraph` constants."
   ]
  },
  {
   "cell_type": "code",
   "execution_count": 7,
   "id": "664fc26f",
   "metadata": {
    "execution": {
     "iopub.execute_input": "2024-10-09T18:07:17.133911Z",
     "iopub.status.busy": "2024-10-09T18:07:17.133527Z",
     "iopub.status.idle": "2024-10-09T18:07:17.137832Z",
     "shell.execute_reply": "2024-10-09T18:07:17.137262Z"
    }
   },
   "outputs": [],
   "source": [
    "from bingo.symbolic_regression import ExplicitTrainingData\n",
    "from bingo.local_optimizers.scipy_optimizer import ScipyOptimizer\n",
    "from bingo.local_optimizers.local_opt_fitness import LocalOptFitnessFunction\n",
    "training_data = ExplicitTrainingData(t, v)\n",
    "\n",
    "fitness = FallingBallRegression(training_data=training_data, mass_of_ball=m,\n",
    "                                radius_of_ball=r, g=g, drag_term=c)\n",
    "optimizer = ScipyOptimizer(fitness, method='lm')\n",
    "local_opt_fitness = LocalOptFitnessFunction(fitness, optimizer)"
   ]
  },
  {
   "cell_type": "markdown",
   "id": "96ee62db",
   "metadata": {},
   "source": [
    "We can then use the fitness function in `Evaluation`."
   ]
  },
  {
   "cell_type": "code",
   "execution_count": 8,
   "id": "4120713a",
   "metadata": {
    "execution": {
     "iopub.execute_input": "2024-10-09T18:07:17.139411Z",
     "iopub.status.busy": "2024-10-09T18:07:17.139255Z",
     "iopub.status.idle": "2024-10-09T18:07:17.143989Z",
     "shell.execute_reply": "2024-10-09T18:07:17.143424Z"
    }
   },
   "outputs": [],
   "source": [
    "from bingo.evaluation.evaluation import Evaluation\n",
    "\n",
    "evaluator = Evaluation(local_opt_fitness)"
   ]
  },
  {
   "cell_type": "markdown",
   "id": "d63fb26d",
   "metadata": {},
   "source": [
    "#### Evolutionary Algorithm"
   ]
  },
  {
   "cell_type": "code",
   "execution_count": 9,
   "id": "7918760d",
   "metadata": {
    "execution": {
     "iopub.execute_input": "2024-10-09T18:07:17.145950Z",
     "iopub.status.busy": "2024-10-09T18:07:17.145495Z",
     "iopub.status.idle": "2024-10-09T18:07:17.151430Z",
     "shell.execute_reply": "2024-10-09T18:07:17.150874Z"
    }
   },
   "outputs": [],
   "source": [
    "from bingo.evolutionary_algorithms.age_fitness import AgeFitnessEA\n",
    "\n",
    "POPULATION_SIZE = 50\n",
    "MUTATION_PROB = 0.1\n",
    "CROSSOVER_PROB = 0.4\n",
    "\n",
    "ea = AgeFitnessEA(evaluator, agraph_generator, crossover, mutation,\n",
    "                  CROSSOVER_PROB, MUTATION_PROB, POPULATION_SIZE)"
   ]
  },
  {
   "cell_type": "markdown",
   "id": "a2efd0f0",
   "metadata": {},
   "source": [
    "#### Pareto Front"
   ]
  },
  {
   "cell_type": "code",
   "execution_count": 10,
   "id": "df93e473",
   "metadata": {
    "execution": {
     "iopub.execute_input": "2024-10-09T18:07:17.153378Z",
     "iopub.status.busy": "2024-10-09T18:07:17.153055Z",
     "iopub.status.idle": "2024-10-09T18:07:17.156996Z",
     "shell.execute_reply": "2024-10-09T18:07:17.156547Z"
    }
   },
   "outputs": [],
   "source": [
    "from bingo.stats.pareto_front import ParetoFront\n",
    "\n",
    "def agraph_similarity(ag_1, ag_2):\n",
    "    \"\"\"a similarity metric between agraphs\"\"\"\n",
    "    return ag_1.fitness == ag_2.fitness and ag_1.get_complexity() == ag_2.get_complexity()\n",
    "\n",
    "pareto_front = ParetoFront(secondary_key=lambda ag: ag.get_complexity(),\n",
    "                           similarity_function=agraph_similarity) "
   ]
  },
  {
   "cell_type": "markdown",
   "id": "e64bb1b3",
   "metadata": {},
   "source": [
    "#### Evolutionary Optimizer"
   ]
  },
  {
   "cell_type": "code",
   "execution_count": 11,
   "id": "c914069e",
   "metadata": {
    "execution": {
     "iopub.execute_input": "2024-10-09T18:07:17.158862Z",
     "iopub.status.busy": "2024-10-09T18:07:17.158449Z",
     "iopub.status.idle": "2024-10-09T18:07:17.177276Z",
     "shell.execute_reply": "2024-10-09T18:07:17.176701Z"
    }
   },
   "outputs": [],
   "source": [
    "from bingo.evolutionary_optimizers.island import Island\n",
    "\n",
    "island = Island(ea, agraph_generator, POPULATION_SIZE, hall_of_fame=pareto_front)"
   ]
  },
  {
   "cell_type": "markdown",
   "id": "7efd29ae",
   "metadata": {},
   "source": [
    "### Running Symbolic Regression\n",
    "\n",
    "Now we can run symbolic regression on our training data to produce a model."
   ]
  },
  {
   "cell_type": "code",
   "execution_count": 12,
   "id": "3e92e705",
   "metadata": {
    "execution": {
     "iopub.execute_input": "2024-10-09T18:07:17.179300Z",
     "iopub.status.busy": "2024-10-09T18:07:17.178886Z",
     "iopub.status.idle": "2024-10-09T18:07:29.978455Z",
     "shell.execute_reply": "2024-10-09T18:07:29.977848Z"
    }
   },
   "outputs": [
    {
     "name": "stderr",
     "output_type": "stream",
     "text": [
      "/tmp/ipykernel_5412/3026084833.py:19: RuntimeWarning: overflow encountered in multiply\n",
      "  derivative_fitness_vector = self.g - self.c * v / self.m - dv_dt\n",
      "/home/runner/work/bingo/bingo/bingo/symbolic_regression/agraph/evaluation_backend/operator_eval.py:144: RuntimeWarning: overflow encountered in exp\n",
      "  return np.exp(forward_eval[param1])\n",
      "/home/runner/work/bingo/bingo/bingo/symbolic_regression/agraph/evaluation_backend/operator_eval.py:95: RuntimeWarning: overflow encountered in multiply\n",
      "  reverse_eval[param2] -= reverse_eval[reverse_index] *\\\n",
      "/home/runner/work/bingo/bingo/bingo/symbolic_regression/agraph/evaluation_backend/operator_eval.py:83: RuntimeWarning: overflow encountered in multiply\n",
      "  reverse_eval[param1] += reverse_eval[reverse_index]*forward_eval[param2]\n",
      "/home/runner/work/bingo/bingo/bingo/symbolic_regression/agraph/evaluation_backend/operator_eval.py:84: RuntimeWarning: overflow encountered in multiply\n",
      "  reverse_eval[param2] += reverse_eval[reverse_index]*forward_eval[param1]\n",
      "/tmp/ipykernel_5412/3026084833.py:19: RuntimeWarning: overflow encountered in subtract\n",
      "  derivative_fitness_vector = self.g - self.c * v / self.m - dv_dt\n"
     ]
    },
    {
     "name": "stderr",
     "output_type": "stream",
     "text": [
      "/home/runner/work/bingo/bingo/bingo/symbolic_regression/agraph/evaluation_backend/operator_eval.py:78: RuntimeWarning: overflow encountered in multiply\n",
      "  return forward_eval[param1] * forward_eval[param2]\n",
      "/home/runner/work/bingo/bingo/bingo/symbolic_regression/agraph/evaluation_backend/operator_eval.py:149: RuntimeWarning: overflow encountered in multiply\n",
      "  reverse_eval[param1] += reverse_eval[reverse_index] *\\\n"
     ]
    },
    {
     "name": "stderr",
     "output_type": "stream",
     "text": [
      "/opt/hostedtoolcache/Python/3.12.7/x64/lib/python3.12/site-packages/scipy/optimize/_minpack_py.py:499: RuntimeWarning: overflow encountered in matmul\n",
      "  cov_x = invR @ invR.T\n",
      "/home/runner/work/bingo/bingo/bingo/symbolic_regression/agraph/evaluation_backend/operator_eval.py:95: RuntimeWarning: overflow encountered in divide\n",
      "  reverse_eval[param2] -= reverse_eval[reverse_index] *\\\n"
     ]
    },
    {
     "name": "stderr",
     "output_type": "stream",
     "text": [
      "/home/runner/work/bingo/bingo/bingo/symbolic_regression/agraph/evaluation_backend/operator_eval.py:78: RuntimeWarning: overflow encountered in scalar multiply\n",
      "  return forward_eval[param1] * forward_eval[param2]\n",
      "/home/runner/work/bingo/bingo/bingo/symbolic_regression/agraph/evaluation_backend/operator_eval.py:149: RuntimeWarning: overflow encountered in scalar multiply\n",
      "  reverse_eval[param1] += reverse_eval[reverse_index] *\\\n"
     ]
    },
    {
     "name": "stderr",
     "output_type": "stream",
     "text": [
      "/home/runner/work/bingo/bingo/bingo/symbolic_regression/agraph/evaluation_backend/operator_eval.py:89: RuntimeWarning: overflow encountered in divide\n",
      "  return forward_eval[param1] / forward_eval[param2]\n",
      "/home/runner/work/bingo/bingo/bingo/symbolic_regression/agraph/evaluation_backend/operator_eval.py:94: RuntimeWarning: overflow encountered in divide\n",
      "  reverse_eval[param1] += reverse_eval[reverse_index] / forward_eval[param2]\n",
      "/home/runner/work/bingo/bingo/bingo/symbolic_regression/agraph/evaluation_backend/operator_eval.py:83: RuntimeWarning: overflow encountered in scalar multiply\n",
      "  reverse_eval[param1] += reverse_eval[reverse_index]*forward_eval[param2]\n"
     ]
    },
    {
     "name": "stderr",
     "output_type": "stream",
     "text": [
      "/home/runner/work/bingo/bingo/bingo/symbolic_regression/agraph/evaluation_backend/operator_eval.py:84: RuntimeWarning: overflow encountered in add\n",
      "  reverse_eval[param2] += reverse_eval[reverse_index]*forward_eval[param1]\n"
     ]
    },
    {
     "name": "stderr",
     "output_type": "stream",
     "text": [
      "/home/runner/work/bingo/bingo/bingo/symbolic_regression/agraph/evaluation_backend/operator_eval.py:95: RuntimeWarning: overflow encountered in scalar divide\n",
      "  reverse_eval[param2] -= reverse_eval[reverse_index] *\\\n",
      "/home/runner/work/bingo/bingo/bingo/symbolic_regression/agraph/evaluation_backend/operator_eval.py:95: RuntimeWarning: overflow encountered in scalar multiply\n",
      "  reverse_eval[param2] -= reverse_eval[reverse_index] *\\\n"
     ]
    },
    {
     "data": {
      "text/plain": [
       "OptimizeResult(success=False, status=2, message='The maximum number of generational steps (1000) occurred', ngen=1000, fitness=np.float64(1.2215426198686914e+22), time=12.79496, ea_diagnostics=EaDiagnosticsSummary(beneficial_crossover_rate=np.float64(0.008869179600886918), detrimental_crossover_rate=np.float64(0.40964523281596454), beneficial_mutation_rate=np.float64(0.04033898305084746), detrimental_mutation_rate=np.float64(0.54), beneficial_crossover_mutation_rate=np.float64(0.009538152610441768), detrimental_crossover_mutation_rate=np.float64(0.4678714859437751)))"
      ]
     },
     "execution_count": 12,
     "metadata": {},
     "output_type": "execute_result"
    }
   ],
   "source": [
    "import random\n",
    "\n",
    "MAX_GENS = 1000\n",
    "ERR_THRESHOLD = 0.001\n",
    "\n",
    "np.random.seed(0)\n",
    "random.seed(0)\n",
    "island.evolve_until_convergence(MAX_GENS, ERR_THRESHOLD)"
   ]
  },
  {
   "cell_type": "markdown",
   "id": "1bd252ee",
   "metadata": {},
   "source": [
    "### Results"
   ]
  },
  {
   "cell_type": "code",
   "execution_count": 13,
   "id": "998c0509",
   "metadata": {
    "execution": {
     "iopub.execute_input": "2024-10-09T18:07:29.980413Z",
     "iopub.status.busy": "2024-10-09T18:07:29.980115Z",
     "iopub.status.idle": "2024-10-09T18:07:30.107230Z",
     "shell.execute_reply": "2024-10-09T18:07:30.106643Z"
    }
   },
   "outputs": [
    {
     "data": {
      "image/png": "[encoded data removed]",
      "text/plain": [
       "<Figure size 640x480 with 1 Axes>"
      ]
     },
     "metadata": {},
     "output_type": "display_data"
    }
   ],
   "source": [
    "best_individual = pareto_front[0]\n",
    "pred_v = best_individual.evaluate_equation_at(t)\n",
    "\n",
    "plt.scatter(t, v)\n",
    "plt.scatter(t, pred_v)\n",
    "plt.xlabel(\"t (s)\")\n",
    "plt.ylabel(\"v (m/s)\")\n",
    "plt.legend([\"actual\", \"predicted\"])\n",
    "plt.title(\"Velocity of Ball Falling Through Honey\")\n",
    "plt.show()"
   ]
  }
 ],
 "metadata": {
  "kernelspec": {
   "display_name": "Python 3 (ipykernel)",
   "language": "python",
   "name": "python3"
  },
  "language_info": {
   "codemirror_mode": {
    "name": "ipython",
    "version": 3
   },
   "file_extension": ".py",
   "mimetype": "text/x-python",
   "name": "python",
   "nbconvert_exporter": "python",
   "pygments_lexer": "ipython3",
   "version": "3.12.7"
  }
 },
 "nbformat": 4,
 "nbformat_minor": 5
}
